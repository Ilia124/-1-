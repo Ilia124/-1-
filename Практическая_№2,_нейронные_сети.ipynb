{
  "nbformat": 4,
  "nbformat_minor": 0,
  "metadata": {
    "colab": {
      "provenance": []
    },
    "kernelspec": {
      "name": "python3",
      "display_name": "Python 3"
    },
    "language_info": {
      "name": "python"
    }
  },
  "cells": [
    {
      "cell_type": "markdown",
      "source": [
        "#**Задание №1**"
      ],
      "metadata": {
        "id": "B75fTItJmoSi"
      }
    },
    {
      "cell_type": "code",
      "execution_count": null,
      "metadata": {
        "colab": {
          "base_uri": "https://localhost:8080/",
          "height": 206
        },
        "id": "OvlzTDqRiyod",
        "outputId": "96e67639-bbcf-4154-b9b7-8c33dc5c0f8d"
      },
      "outputs": [
        {
          "output_type": "execute_result",
          "data": {
            "text/plain": [
              "   MedInc  HouseAge  AveRooms  AveBedrms  Population  AveOccup  Latitude  \\\n",
              "0  8.3252      41.0  6.984127   1.023810       322.0  2.555556     37.88   \n",
              "1  8.3014      21.0  6.238137   0.971880      2401.0  2.109842     37.86   \n",
              "2  7.2574      52.0  8.288136   1.073446       496.0  2.802260     37.85   \n",
              "3  5.6431      52.0  5.817352   1.073059       558.0  2.547945     37.85   \n",
              "4  3.8462      52.0  6.281853   1.081081       565.0  2.181467     37.85   \n",
              "\n",
              "   Longitude  \n",
              "0    -122.23  \n",
              "1    -122.22  \n",
              "2    -122.24  \n",
              "3    -122.25  \n",
              "4    -122.25  "
            ],
            "text/html": [
              "\n",
              "  <div id=\"df-73ba5d9e-d7b7-4da3-b90f-a65ca4618b1c\">\n",
              "    <div class=\"colab-df-container\">\n",
              "      <div>\n",
              "<style scoped>\n",
              "    .dataframe tbody tr th:only-of-type {\n",
              "        vertical-align: middle;\n",
              "    }\n",
              "\n",
              "    .dataframe tbody tr th {\n",
              "        vertical-align: top;\n",
              "    }\n",
              "\n",
              "    .dataframe thead th {\n",
              "        text-align: right;\n",
              "    }\n",
              "</style>\n",
              "<table border=\"1\" class=\"dataframe\">\n",
              "  <thead>\n",
              "    <tr style=\"text-align: right;\">\n",
              "      <th></th>\n",
              "      <th>MedInc</th>\n",
              "      <th>HouseAge</th>\n",
              "      <th>AveRooms</th>\n",
              "      <th>AveBedrms</th>\n",
              "      <th>Population</th>\n",
              "      <th>AveOccup</th>\n",
              "      <th>Latitude</th>\n",
              "      <th>Longitude</th>\n",
              "    </tr>\n",
              "  </thead>\n",
              "  <tbody>\n",
              "    <tr>\n",
              "      <th>0</th>\n",
              "      <td>8.3252</td>\n",
              "      <td>41.0</td>\n",
              "      <td>6.984127</td>\n",
              "      <td>1.023810</td>\n",
              "      <td>322.0</td>\n",
              "      <td>2.555556</td>\n",
              "      <td>37.88</td>\n",
              "      <td>-122.23</td>\n",
              "    </tr>\n",
              "    <tr>\n",
              "      <th>1</th>\n",
              "      <td>8.3014</td>\n",
              "      <td>21.0</td>\n",
              "      <td>6.238137</td>\n",
              "      <td>0.971880</td>\n",
              "      <td>2401.0</td>\n",
              "      <td>2.109842</td>\n",
              "      <td>37.86</td>\n",
              "      <td>-122.22</td>\n",
              "    </tr>\n",
              "    <tr>\n",
              "      <th>2</th>\n",
              "      <td>7.2574</td>\n",
              "      <td>52.0</td>\n",
              "      <td>8.288136</td>\n",
              "      <td>1.073446</td>\n",
              "      <td>496.0</td>\n",
              "      <td>2.802260</td>\n",
              "      <td>37.85</td>\n",
              "      <td>-122.24</td>\n",
              "    </tr>\n",
              "    <tr>\n",
              "      <th>3</th>\n",
              "      <td>5.6431</td>\n",
              "      <td>52.0</td>\n",
              "      <td>5.817352</td>\n",
              "      <td>1.073059</td>\n",
              "      <td>558.0</td>\n",
              "      <td>2.547945</td>\n",
              "      <td>37.85</td>\n",
              "      <td>-122.25</td>\n",
              "    </tr>\n",
              "    <tr>\n",
              "      <th>4</th>\n",
              "      <td>3.8462</td>\n",
              "      <td>52.0</td>\n",
              "      <td>6.281853</td>\n",
              "      <td>1.081081</td>\n",
              "      <td>565.0</td>\n",
              "      <td>2.181467</td>\n",
              "      <td>37.85</td>\n",
              "      <td>-122.25</td>\n",
              "    </tr>\n",
              "  </tbody>\n",
              "</table>\n",
              "</div>\n",
              "      <button class=\"colab-df-convert\" onclick=\"convertToInteractive('df-73ba5d9e-d7b7-4da3-b90f-a65ca4618b1c')\"\n",
              "              title=\"Convert this dataframe to an interactive table.\"\n",
              "              style=\"display:none;\">\n",
              "        \n",
              "  <svg xmlns=\"http://www.w3.org/2000/svg\" height=\"24px\"viewBox=\"0 0 24 24\"\n",
              "       width=\"24px\">\n",
              "    <path d=\"M0 0h24v24H0V0z\" fill=\"none\"/>\n",
              "    <path d=\"M18.56 5.44l.94 2.06.94-2.06 2.06-.94-2.06-.94-.94-2.06-.94 2.06-2.06.94zm-11 1L8.5 8.5l.94-2.06 2.06-.94-2.06-.94L8.5 2.5l-.94 2.06-2.06.94zm10 10l.94 2.06.94-2.06 2.06-.94-2.06-.94-.94-2.06-.94 2.06-2.06.94z\"/><path d=\"M17.41 7.96l-1.37-1.37c-.4-.4-.92-.59-1.43-.59-.52 0-1.04.2-1.43.59L10.3 9.45l-7.72 7.72c-.78.78-.78 2.05 0 2.83L4 21.41c.39.39.9.59 1.41.59.51 0 1.02-.2 1.41-.59l7.78-7.78 2.81-2.81c.8-.78.8-2.07 0-2.86zM5.41 20L4 18.59l7.72-7.72 1.47 1.35L5.41 20z\"/>\n",
              "  </svg>\n",
              "      </button>\n",
              "      \n",
              "  <style>\n",
              "    .colab-df-container {\n",
              "      display:flex;\n",
              "      flex-wrap:wrap;\n",
              "      gap: 12px;\n",
              "    }\n",
              "\n",
              "    .colab-df-convert {\n",
              "      background-color: #E8F0FE;\n",
              "      border: none;\n",
              "      border-radius: 50%;\n",
              "      cursor: pointer;\n",
              "      display: none;\n",
              "      fill: #1967D2;\n",
              "      height: 32px;\n",
              "      padding: 0 0 0 0;\n",
              "      width: 32px;\n",
              "    }\n",
              "\n",
              "    .colab-df-convert:hover {\n",
              "      background-color: #E2EBFA;\n",
              "      box-shadow: 0px 1px 2px rgba(60, 64, 67, 0.3), 0px 1px 3px 1px rgba(60, 64, 67, 0.15);\n",
              "      fill: #174EA6;\n",
              "    }\n",
              "\n",
              "    [theme=dark] .colab-df-convert {\n",
              "      background-color: #3B4455;\n",
              "      fill: #D2E3FC;\n",
              "    }\n",
              "\n",
              "    [theme=dark] .colab-df-convert:hover {\n",
              "      background-color: #434B5C;\n",
              "      box-shadow: 0px 1px 3px 1px rgba(0, 0, 0, 0.15);\n",
              "      filter: drop-shadow(0px 1px 2px rgba(0, 0, 0, 0.3));\n",
              "      fill: #FFFFFF;\n",
              "    }\n",
              "  </style>\n",
              "\n",
              "      <script>\n",
              "        const buttonEl =\n",
              "          document.querySelector('#df-73ba5d9e-d7b7-4da3-b90f-a65ca4618b1c button.colab-df-convert');\n",
              "        buttonEl.style.display =\n",
              "          google.colab.kernel.accessAllowed ? 'block' : 'none';\n",
              "\n",
              "        async function convertToInteractive(key) {\n",
              "          const element = document.querySelector('#df-73ba5d9e-d7b7-4da3-b90f-a65ca4618b1c');\n",
              "          const dataTable =\n",
              "            await google.colab.kernel.invokeFunction('convertToInteractive',\n",
              "                                                     [key], {});\n",
              "          if (!dataTable) return;\n",
              "\n",
              "          const docLinkHtml = 'Like what you see? Visit the ' +\n",
              "            '<a target=\"_blank\" href=https://colab.research.google.com/notebooks/data_table.ipynb>data table notebook</a>'\n",
              "            + ' to learn more about interactive tables.';\n",
              "          element.innerHTML = '';\n",
              "          dataTable['output_type'] = 'display_data';\n",
              "          await google.colab.output.renderOutput(dataTable, element);\n",
              "          const docLink = document.createElement('div');\n",
              "          docLink.innerHTML = docLinkHtml;\n",
              "          element.appendChild(docLink);\n",
              "        }\n",
              "      </script>\n",
              "    </div>\n",
              "  </div>\n",
              "  "
            ]
          },
          "metadata": {},
          "execution_count": 15
        }
      ],
      "source": [
        "from sklearn.datasets import fetch_california_housing\n",
        "import pandas as pd\n",
        "\n",
        "\n",
        "data = fetch_california_housing()\n",
        "\n",
        "X = pd.DataFrame(data['data'], columns=data['feature_names'])\n",
        "y = data['target']\n",
        "\n",
        "X.head()"
      ]
    },
    {
      "cell_type": "code",
      "source": [
        "from sklearn.model_selection import train_test_split\n",
        "\n",
        "X_train, X_test, y_train, y_test = train_test_split(X.values, y, test_size=0.2, random_state=0)\n",
        "X_train.shape, X_test.shape"
      ],
      "metadata": {
        "colab": {
          "base_uri": "https://localhost:8080/"
        },
        "id": "8aaSPfC1i8nr",
        "outputId": "39de68d6-5397-4a60-8e47-4ac3caf0266e"
      },
      "execution_count": null,
      "outputs": [
        {
          "output_type": "execute_result",
          "data": {
            "text/plain": [
              "((16512, 8), (4128, 8))"
            ]
          },
          "metadata": {},
          "execution_count": 16
        }
      ]
    },
    {
      "cell_type": "code",
      "source": [
        "from keras.models import Sequential\n",
        "from keras.layers import Dense\n",
        "\n",
        "model = Sequential()\n",
        "model.add(Dense(8, input_shape=(8, ), activation='linear', name='first'))\n",
        "model.add(Dense(8, activation='linear', name='second'))\n",
        "model.add(Dense(8, activation='linear', name='third'))"
      ],
      "metadata": {
        "id": "KBeGd9PmjugJ"
      },
      "execution_count": null,
      "outputs": []
    },
    {
      "cell_type": "code",
      "source": [
        "model.compile(optimizer='sgd', loss='mse', metrics='mae')"
      ],
      "metadata": {
        "id": "bhBYEFPYjwl5"
      },
      "execution_count": null,
      "outputs": []
    },
    {
      "cell_type": "code",
      "source": [
        "%%time\n",
        "model.fit(X_norm_train, y_train, validation_data=(X_norm_test, y_test), epochs=100)"
      ],
      "metadata": {
        "colab": {
          "base_uri": "https://localhost:8080/"
        },
        "id": "GgICHTlrj8dw",
        "outputId": "1b8dbcc2-9dcf-48b4-c19a-90ee0f8cd7cd"
      },
      "execution_count": null,
      "outputs": [
        {
          "output_type": "stream",
          "name": "stdout",
          "text": [
            "Epoch 1/100\n",
            "516/516 [==============================] - 1s 2ms/step - loss: 0.5875 - mae: 0.5668 - val_loss: 0.6096 - val_mae: 0.5813\n",
            "Epoch 2/100\n",
            "516/516 [==============================] - 1s 2ms/step - loss: 0.5740 - mae: 0.5574 - val_loss: 0.5924 - val_mae: 0.5677\n",
            "Epoch 3/100\n",
            "516/516 [==============================] - 1s 2ms/step - loss: 0.5632 - mae: 0.5522 - val_loss: 0.5834 - val_mae: 0.5535\n",
            "Epoch 4/100\n",
            "516/516 [==============================] - 1s 2ms/step - loss: 0.5568 - mae: 0.5489 - val_loss: 0.5745 - val_mae: 0.5594\n",
            "Epoch 5/100\n",
            "516/516 [==============================] - 1s 2ms/step - loss: 0.5508 - mae: 0.5475 - val_loss: 0.5691 - val_mae: 0.5489\n",
            "Epoch 6/100\n",
            "516/516 [==============================] - 1s 2ms/step - loss: 0.5482 - mae: 0.5454 - val_loss: 0.5652 - val_mae: 0.5482\n",
            "Epoch 7/100\n",
            "516/516 [==============================] - 1s 2ms/step - loss: 0.5455 - mae: 0.5448 - val_loss: 0.5681 - val_mae: 0.5678\n",
            "Epoch 8/100\n",
            "516/516 [==============================] - 1s 2ms/step - loss: 0.5442 - mae: 0.5452 - val_loss: 0.5590 - val_mae: 0.5495\n",
            "Epoch 9/100\n",
            "516/516 [==============================] - 1s 2ms/step - loss: 0.5425 - mae: 0.5445 - val_loss: 0.5591 - val_mae: 0.5475\n",
            "Epoch 10/100\n",
            "516/516 [==============================] - 1s 2ms/step - loss: 0.5420 - mae: 0.5444 - val_loss: 0.5715 - val_mae: 0.5362\n",
            "Epoch 11/100\n",
            "516/516 [==============================] - 1s 2ms/step - loss: 0.5417 - mae: 0.5448 - val_loss: 0.5598 - val_mae: 0.5457\n",
            "Epoch 12/100\n",
            "516/516 [==============================] - 1s 2ms/step - loss: 0.5407 - mae: 0.5445 - val_loss: 0.5567 - val_mae: 0.5538\n",
            "Epoch 13/100\n",
            "516/516 [==============================] - 1s 2ms/step - loss: 0.5405 - mae: 0.5447 - val_loss: 0.5592 - val_mae: 0.5384\n",
            "Epoch 14/100\n",
            "516/516 [==============================] - 1s 2ms/step - loss: 0.5405 - mae: 0.5448 - val_loss: 0.5573 - val_mae: 0.5408\n",
            "Epoch 15/100\n",
            "516/516 [==============================] - 1s 2ms/step - loss: 0.5407 - mae: 0.5448 - val_loss: 0.5545 - val_mae: 0.5485\n",
            "Epoch 16/100\n",
            "516/516 [==============================] - 1s 2ms/step - loss: 0.5401 - mae: 0.5443 - val_loss: 0.5540 - val_mae: 0.5436\n",
            "Epoch 17/100\n",
            "516/516 [==============================] - 1s 2ms/step - loss: 0.5399 - mae: 0.5442 - val_loss: 0.5573 - val_mae: 0.5380\n",
            "Epoch 18/100\n",
            "516/516 [==============================] - 1s 2ms/step - loss: 0.5390 - mae: 0.5437 - val_loss: 0.5564 - val_mae: 0.5584\n",
            "Epoch 19/100\n",
            "516/516 [==============================] - 1s 2ms/step - loss: 0.5397 - mae: 0.5447 - val_loss: 0.5540 - val_mae: 0.5518\n",
            "Epoch 20/100\n",
            "516/516 [==============================] - 1s 2ms/step - loss: 0.5396 - mae: 0.5443 - val_loss: 0.5598 - val_mae: 0.5639\n",
            "Epoch 21/100\n",
            "516/516 [==============================] - 1s 2ms/step - loss: 0.5390 - mae: 0.5440 - val_loss: 0.5563 - val_mae: 0.5555\n",
            "Epoch 22/100\n",
            "516/516 [==============================] - 1s 2ms/step - loss: 0.5391 - mae: 0.5439 - val_loss: 0.5555 - val_mae: 0.5402\n",
            "Epoch 23/100\n",
            "516/516 [==============================] - 1s 3ms/step - loss: 0.5397 - mae: 0.5437 - val_loss: 0.5544 - val_mae: 0.5539\n",
            "Epoch 24/100\n",
            "516/516 [==============================] - 1s 2ms/step - loss: 0.5389 - mae: 0.5445 - val_loss: 0.5664 - val_mae: 0.5730\n",
            "Epoch 25/100\n",
            "516/516 [==============================] - 1s 2ms/step - loss: 0.5393 - mae: 0.5438 - val_loss: 0.5569 - val_mae: 0.5593\n",
            "Epoch 26/100\n",
            "516/516 [==============================] - 1s 2ms/step - loss: 0.5391 - mae: 0.5443 - val_loss: 0.5608 - val_mae: 0.5338\n",
            "Epoch 27/100\n",
            "516/516 [==============================] - 1s 2ms/step - loss: 0.5388 - mae: 0.5444 - val_loss: 0.5534 - val_mae: 0.5448\n",
            "Epoch 28/100\n",
            "516/516 [==============================] - 1s 2ms/step - loss: 0.5389 - mae: 0.5439 - val_loss: 0.5586 - val_mae: 0.5611\n",
            "Epoch 29/100\n",
            "516/516 [==============================] - 1s 2ms/step - loss: 0.5382 - mae: 0.5431 - val_loss: 0.5600 - val_mae: 0.5630\n",
            "Epoch 30/100\n",
            "516/516 [==============================] - 1s 2ms/step - loss: 0.5381 - mae: 0.5433 - val_loss: 0.5591 - val_mae: 0.5613\n",
            "Epoch 31/100\n",
            "516/516 [==============================] - 1s 2ms/step - loss: 0.5393 - mae: 0.5442 - val_loss: 0.5608 - val_mae: 0.5665\n",
            "Epoch 32/100\n",
            "516/516 [==============================] - 1s 2ms/step - loss: 0.5382 - mae: 0.5440 - val_loss: 0.5524 - val_mae: 0.5452\n",
            "Epoch 33/100\n",
            "516/516 [==============================] - 1s 2ms/step - loss: 0.5387 - mae: 0.5436 - val_loss: 0.5547 - val_mae: 0.5501\n",
            "Epoch 34/100\n",
            "516/516 [==============================] - 1s 2ms/step - loss: 0.5377 - mae: 0.5432 - val_loss: 0.5526 - val_mae: 0.5472\n",
            "Epoch 35/100\n",
            "516/516 [==============================] - 1s 3ms/step - loss: 0.5392 - mae: 0.5441 - val_loss: 0.5526 - val_mae: 0.5467\n",
            "Epoch 36/100\n",
            "516/516 [==============================] - 1s 2ms/step - loss: 0.5373 - mae: 0.5434 - val_loss: 0.5527 - val_mae: 0.5440\n",
            "Epoch 37/100\n",
            "516/516 [==============================] - 1s 2ms/step - loss: 0.5375 - mae: 0.5429 - val_loss: 0.5641 - val_mae: 0.5679\n",
            "Epoch 38/100\n",
            "516/516 [==============================] - 1s 2ms/step - loss: 0.5380 - mae: 0.5431 - val_loss: 0.5624 - val_mae: 0.5694\n",
            "Epoch 39/100\n",
            "516/516 [==============================] - 1s 2ms/step - loss: 0.5372 - mae: 0.5433 - val_loss: 0.5563 - val_mae: 0.5577\n",
            "Epoch 40/100\n",
            "516/516 [==============================] - 1s 2ms/step - loss: 0.5376 - mae: 0.5427 - val_loss: 0.5815 - val_mae: 0.5925\n",
            "Epoch 41/100\n",
            "516/516 [==============================] - 1s 2ms/step - loss: 0.5375 - mae: 0.5435 - val_loss: 0.5543 - val_mae: 0.5525\n",
            "Epoch 42/100\n",
            "516/516 [==============================] - 1s 2ms/step - loss: 0.5376 - mae: 0.5436 - val_loss: 0.5521 - val_mae: 0.5422\n",
            "Epoch 43/100\n",
            "516/516 [==============================] - 1s 2ms/step - loss: 0.5374 - mae: 0.5430 - val_loss: 0.5549 - val_mae: 0.5525\n",
            "Epoch 44/100\n",
            "516/516 [==============================] - 1s 2ms/step - loss: 0.5374 - mae: 0.5431 - val_loss: 0.5606 - val_mae: 0.5659\n",
            "Epoch 45/100\n",
            "516/516 [==============================] - 1s 2ms/step - loss: 0.5371 - mae: 0.5432 - val_loss: 0.5562 - val_mae: 0.5557\n",
            "Epoch 46/100\n",
            "516/516 [==============================] - 1s 2ms/step - loss: 0.5381 - mae: 0.5436 - val_loss: 0.5562 - val_mae: 0.5556\n",
            "Epoch 47/100\n",
            "516/516 [==============================] - 1s 3ms/step - loss: 0.5374 - mae: 0.5438 - val_loss: 0.5529 - val_mae: 0.5473\n",
            "Epoch 48/100\n",
            "516/516 [==============================] - 2s 4ms/step - loss: 0.5378 - mae: 0.5435 - val_loss: 0.5606 - val_mae: 0.5659\n",
            "Epoch 49/100\n",
            "516/516 [==============================] - 1s 3ms/step - loss: 0.5369 - mae: 0.5431 - val_loss: 0.5553 - val_mae: 0.5557\n",
            "Epoch 50/100\n",
            "516/516 [==============================] - 1s 2ms/step - loss: 0.5371 - mae: 0.5426 - val_loss: 0.5549 - val_mae: 0.5537\n",
            "Epoch 51/100\n",
            "516/516 [==============================] - 1s 2ms/step - loss: 0.5367 - mae: 0.5427 - val_loss: 0.5565 - val_mae: 0.5577\n",
            "Epoch 52/100\n",
            "516/516 [==============================] - 1s 2ms/step - loss: 0.5376 - mae: 0.5430 - val_loss: 0.5652 - val_mae: 0.5722\n",
            "Epoch 53/100\n",
            "516/516 [==============================] - 1s 2ms/step - loss: 0.5374 - mae: 0.5432 - val_loss: 0.5521 - val_mae: 0.5428\n",
            "Epoch 54/100\n",
            "516/516 [==============================] - 1s 2ms/step - loss: 0.5364 - mae: 0.5422 - val_loss: 0.5603 - val_mae: 0.5658\n",
            "Epoch 55/100\n",
            "516/516 [==============================] - 1s 2ms/step - loss: 0.5368 - mae: 0.5429 - val_loss: 0.5720 - val_mae: 0.5816\n",
            "Epoch 56/100\n",
            "516/516 [==============================] - 1s 2ms/step - loss: 0.5367 - mae: 0.5430 - val_loss: 0.5697 - val_mae: 0.5769\n",
            "Epoch 57/100\n",
            "516/516 [==============================] - 1s 2ms/step - loss: 0.5366 - mae: 0.5431 - val_loss: 0.5705 - val_mae: 0.5805\n",
            "Epoch 58/100\n",
            "516/516 [==============================] - 1s 2ms/step - loss: 0.5371 - mae: 0.5436 - val_loss: 0.5533 - val_mae: 0.5403\n",
            "Epoch 59/100\n",
            "516/516 [==============================] - 1s 3ms/step - loss: 0.5363 - mae: 0.5423 - val_loss: 0.5543 - val_mae: 0.5360\n",
            "Epoch 60/100\n",
            "516/516 [==============================] - 1s 2ms/step - loss: 0.5370 - mae: 0.5425 - val_loss: 0.5639 - val_mae: 0.5696\n",
            "Epoch 61/100\n",
            "516/516 [==============================] - 1s 2ms/step - loss: 0.5365 - mae: 0.5426 - val_loss: 0.5650 - val_mae: 0.5704\n",
            "Epoch 62/100\n",
            "516/516 [==============================] - 1s 2ms/step - loss: 0.5358 - mae: 0.5416 - val_loss: 0.5885 - val_mae: 0.5997\n",
            "Epoch 63/100\n",
            "516/516 [==============================] - 1s 2ms/step - loss: 0.5374 - mae: 0.5429 - val_loss: 0.5570 - val_mae: 0.5604\n",
            "Epoch 64/100\n",
            "516/516 [==============================] - 1s 2ms/step - loss: 0.5355 - mae: 0.5423 - val_loss: 0.5551 - val_mae: 0.5575\n",
            "Epoch 65/100\n",
            "516/516 [==============================] - 1s 2ms/step - loss: 0.5366 - mae: 0.5424 - val_loss: 0.5639 - val_mae: 0.5718\n",
            "Epoch 66/100\n",
            "516/516 [==============================] - 1s 2ms/step - loss: 0.5367 - mae: 0.5430 - val_loss: 0.5552 - val_mae: 0.5553\n",
            "Epoch 67/100\n",
            "516/516 [==============================] - 1s 2ms/step - loss: 0.5369 - mae: 0.5429 - val_loss: 0.5574 - val_mae: 0.5611\n",
            "Epoch 68/100\n",
            "516/516 [==============================] - 1s 2ms/step - loss: 0.5361 - mae: 0.5421 - val_loss: 0.5933 - val_mae: 0.6049\n",
            "Epoch 69/100\n",
            "516/516 [==============================] - 1s 2ms/step - loss: 0.5370 - mae: 0.5431 - val_loss: 0.5711 - val_mae: 0.5796\n",
            "Epoch 70/100\n",
            "516/516 [==============================] - 1s 2ms/step - loss: 0.5358 - mae: 0.5426 - val_loss: 0.5617 - val_mae: 0.5653\n",
            "Epoch 71/100\n",
            "516/516 [==============================] - 1s 2ms/step - loss: 0.5366 - mae: 0.5425 - val_loss: 0.5564 - val_mae: 0.5583\n",
            "Epoch 72/100\n",
            "516/516 [==============================] - 1s 3ms/step - loss: 0.5359 - mae: 0.5425 - val_loss: 0.5638 - val_mae: 0.5691\n",
            "Epoch 73/100\n",
            "516/516 [==============================] - 1s 2ms/step - loss: 0.5365 - mae: 0.5424 - val_loss: 0.5781 - val_mae: 0.5874\n",
            "Epoch 74/100\n",
            "516/516 [==============================] - 1s 2ms/step - loss: 0.5360 - mae: 0.5421 - val_loss: 0.5534 - val_mae: 0.5469\n",
            "Epoch 75/100\n",
            "516/516 [==============================] - 1s 2ms/step - loss: 0.5362 - mae: 0.5425 - val_loss: 0.5517 - val_mae: 0.5387\n",
            "Epoch 76/100\n",
            "516/516 [==============================] - 1s 2ms/step - loss: 0.5358 - mae: 0.5422 - val_loss: 0.5541 - val_mae: 0.5540\n",
            "Epoch 77/100\n",
            "516/516 [==============================] - 1s 2ms/step - loss: 0.5354 - mae: 0.5424 - val_loss: 0.5525 - val_mae: 0.5490\n",
            "Epoch 78/100\n",
            "516/516 [==============================] - 1s 2ms/step - loss: 0.5360 - mae: 0.5419 - val_loss: 0.5732 - val_mae: 0.5839\n",
            "Epoch 79/100\n",
            "516/516 [==============================] - 1s 2ms/step - loss: 0.5365 - mae: 0.5429 - val_loss: 0.5650 - val_mae: 0.5734\n",
            "Epoch 80/100\n",
            "516/516 [==============================] - 1s 2ms/step - loss: 0.5356 - mae: 0.5421 - val_loss: 0.5645 - val_mae: 0.5710\n",
            "Epoch 81/100\n",
            "516/516 [==============================] - 1s 2ms/step - loss: 0.5365 - mae: 0.5420 - val_loss: 0.5685 - val_mae: 0.5778\n",
            "Epoch 82/100\n",
            "516/516 [==============================] - 1s 2ms/step - loss: 0.5353 - mae: 0.5420 - val_loss: 0.5678 - val_mae: 0.5764\n",
            "Epoch 83/100\n",
            "516/516 [==============================] - 1s 2ms/step - loss: 0.5357 - mae: 0.5422 - val_loss: 0.5836 - val_mae: 0.5935\n",
            "Epoch 84/100\n",
            "516/516 [==============================] - 1s 3ms/step - loss: 0.5356 - mae: 0.5420 - val_loss: 0.5517 - val_mae: 0.5493\n",
            "Epoch 85/100\n",
            "516/516 [==============================] - 1s 3ms/step - loss: 0.5358 - mae: 0.5422 - val_loss: 0.5651 - val_mae: 0.5733\n",
            "Epoch 86/100\n",
            "516/516 [==============================] - 1s 2ms/step - loss: 0.5356 - mae: 0.5421 - val_loss: 0.5506 - val_mae: 0.5415\n",
            "Epoch 87/100\n",
            "516/516 [==============================] - 1s 2ms/step - loss: 0.5350 - mae: 0.5417 - val_loss: 0.5587 - val_mae: 0.5630\n",
            "Epoch 88/100\n",
            "516/516 [==============================] - 1s 2ms/step - loss: 0.5352 - mae: 0.5422 - val_loss: 0.5516 - val_mae: 0.5480\n",
            "Epoch 89/100\n",
            "516/516 [==============================] - 1s 2ms/step - loss: 0.5355 - mae: 0.5420 - val_loss: 0.5684 - val_mae: 0.5766\n",
            "Epoch 90/100\n",
            "516/516 [==============================] - 1s 2ms/step - loss: 0.5352 - mae: 0.5418 - val_loss: 0.5598 - val_mae: 0.5659\n",
            "Epoch 91/100\n",
            "516/516 [==============================] - 1s 3ms/step - loss: 0.5355 - mae: 0.5419 - val_loss: 0.5572 - val_mae: 0.5606\n",
            "Epoch 92/100\n",
            "516/516 [==============================] - 1s 3ms/step - loss: 0.5353 - mae: 0.5413 - val_loss: 0.5545 - val_mae: 0.5565\n",
            "Epoch 93/100\n",
            "516/516 [==============================] - 1s 2ms/step - loss: 0.5354 - mae: 0.5417 - val_loss: 0.5779 - val_mae: 0.5879\n",
            "Epoch 94/100\n",
            "516/516 [==============================] - 1s 2ms/step - loss: 0.5357 - mae: 0.5419 - val_loss: 0.5661 - val_mae: 0.5750\n",
            "Epoch 95/100\n",
            "516/516 [==============================] - 1s 2ms/step - loss: 0.5354 - mae: 0.5419 - val_loss: 0.5532 - val_mae: 0.5521\n",
            "Epoch 96/100\n",
            "516/516 [==============================] - 1s 3ms/step - loss: 0.5353 - mae: 0.5414 - val_loss: 0.5548 - val_mae: 0.5586\n",
            "Epoch 97/100\n",
            "516/516 [==============================] - 1s 2ms/step - loss: 0.5352 - mae: 0.5422 - val_loss: 0.5564 - val_mae: 0.5595\n",
            "Epoch 98/100\n",
            "516/516 [==============================] - 1s 2ms/step - loss: 0.5361 - mae: 0.5420 - val_loss: 0.5606 - val_mae: 0.5670\n",
            "Epoch 99/100\n",
            "516/516 [==============================] - 1s 2ms/step - loss: 0.5354 - mae: 0.5419 - val_loss: 0.5621 - val_mae: 0.5702\n",
            "Epoch 100/100\n",
            "516/516 [==============================] - 1s 2ms/step - loss: 0.5353 - mae: 0.5416 - val_loss: 0.5704 - val_mae: 0.5807\n",
            "CPU times: user 1min 43s, sys: 5.84 s, total: 1min 48s\n",
            "Wall time: 2min 21s\n"
          ]
        },
        {
          "output_type": "execute_result",
          "data": {
            "text/plain": [
              "<keras.callbacks.History at 0x7f1a7b333460>"
            ]
          },
          "metadata": {},
          "execution_count": 21
        }
      ]
    },
    {
      "cell_type": "code",
      "source": [
        "print(model.predict(X_norm_test))"
      ],
      "metadata": {
        "colab": {
          "base_uri": "https://localhost:8080/"
        },
        "id": "7Ld-e6ulmDM4",
        "outputId": "455fdbe9-37b8-4baf-d295-0a16c3c320c9"
      },
      "execution_count": null,
      "outputs": [
        {
          "output_type": "stream",
          "name": "stdout",
          "text": [
            "129/129 [==============================] - 0s 2ms/step\n",
            "[[2.459109   2.4345987  2.4421792  ... 2.4351199  2.4477468  2.4371138 ]\n",
            " [2.9633024  2.942393   2.9557014  ... 2.9349544  2.952651   2.9455733 ]\n",
            " [2.0723708  2.0566406  2.0744572  ... 2.050598   2.057899   2.0573893 ]\n",
            " ...\n",
            " [0.9282439  0.90730625 0.93323827 ... 0.9134775  0.91765356 0.90726596]\n",
            " [3.05811    3.0305395  3.0470982  ... 3.021393   3.032859   3.0199308 ]\n",
            " [2.2431195  2.241018   2.2480748  ... 2.2305284  2.251214   2.248161  ]]\n"
          ]
        }
      ]
    },
    {
      "cell_type": "markdown",
      "source": [
        "#**Задание №2**"
      ],
      "metadata": {
        "id": "-iJgEpypo5YX"
      }
    },
    {
      "cell_type": "code",
      "source": [
        "import matplotlib\n",
        "matplotlib.use(\"Agg\")"
      ],
      "metadata": {
        "id": "7eJo02ctpDBF"
      },
      "execution_count": 47,
      "outputs": []
    },
    {
      "cell_type": "code",
      "source": [
        "from sklearn.preprocessing import LabelBinarizer\n",
        "from sklearn.model_selection import train_test_split\n",
        "from sklearn.metrics import classification_report\n",
        "from keras.models import Sequential\n",
        "from keras.layers.core import Dense\n",
        "from keras.optimizers import SGD\n",
        "from imutils import paths\n",
        "import matplotlib.pyplot as plt\n",
        "import numpy as np\n",
        "import random\n",
        "import pickle\n",
        "import cv2\n",
        "from google.colab.patches import cv2_imshow\n",
        "import os"
      ],
      "metadata": {
        "id": "UvEY4NSipNYU"
      },
      "execution_count": 48,
      "outputs": []
    },
    {
      "cell_type": "code",
      "source": [
        "print(\"[INFO] loading images...\")\n",
        "data = []\n",
        "labels = []"
      ],
      "metadata": {
        "colab": {
          "base_uri": "https://localhost:8080/"
        },
        "id": "OuIjj9bApUD8",
        "outputId": "25268b5c-e916-48f6-8c61-9fae243db11f"
      },
      "execution_count": 49,
      "outputs": [
        {
          "output_type": "stream",
          "name": "stdout",
          "text": [
            "[INFO] loading images...\n"
          ]
        }
      ]
    },
    {
      "cell_type": "code",
      "source": [
        "imagePaths = sorted(list(paths.list_images(\"/content/DataSet.zip\")))\n",
        "\n",
        "random.shuffle(imagePaths)"
      ],
      "metadata": {
        "id": "WfPPpXc7r37f"
      },
      "execution_count": 50,
      "outputs": []
    },
    {
      "cell_type": "code",
      "source": [
        "for imagePath in imagePaths:\n",
        "\t\n",
        "\timage = cv2.imread(imagePath) # загружаем изображение\n",
        "\timage = cv2.resize(image, (32, 32)).flatten() # меняем его разрешение на 32x32 пикселей (без учета соотношения сторон),\n",
        "\t\t\t\t\t\t\t\t\t\t\t\t\t\t\t\t\t\t\t\t\t\t\t\t# сглаживаем его в 32x32x3=3072 пикселей\n",
        "\tdata.append(image) # добавляем в список\n",
        "\n",
        "\tlabel = imagePath.split(os.path.sep)[-2] \t# извлекаем метку класса из пути к изображению (метка класса зависит от имени папки)\n",
        "\tlabels.append(label) # обновляем список меток"
      ],
      "metadata": {
        "id": "JNnBSUPcuCfd"
      },
      "execution_count": 51,
      "outputs": []
    },
    {
      "cell_type": "code",
      "source": [
        "data = np.array(data, dtype=\"float\") / 255.0\n",
        "labels = np.array(labels)"
      ],
      "metadata": {
        "id": "p616CWw3uNqb"
      },
      "execution_count": 52,
      "outputs": []
    },
    {
      "cell_type": "code",
      "source": [
        "(trainX, testX, trainY, testY) = train_test_split(data,\n",
        "\tlabels, test_size=0.25, random_state=42)"
      ],
      "metadata": {
        "id": "CdmySxyzQGsa"
      },
      "execution_count": null,
      "outputs": []
    },
    {
      "cell_type": "code",
      "source": [
        "lb = LabelBinarizer()\n",
        "trainY = lb.fit_transform(trainY)\n",
        "testY = lb.transform(testY)"
      ],
      "metadata": {
        "id": "DHDEnBT4QGxX"
      },
      "execution_count": null,
      "outputs": []
    },
    {
      "cell_type": "code",
      "source": [
        "model = Sequential()\n",
        "model.add(Dense(1024, input_shape=(3072,), activation=\"relu\"))\n",
        "model.add(Dense(512, activation=\"relu\"))\n",
        "model.add(Dense(len(lb.classes_), activation=\"softmax\"))"
      ],
      "metadata": {
        "id": "ysxmAM6cQG06"
      },
      "execution_count": null,
      "outputs": []
    },
    {
      "cell_type": "code",
      "source": [
        "INIT_LR = 0.01\n",
        "EPOCHS = 80"
      ],
      "metadata": {
        "id": "wV1ViEQK0vsA"
      },
      "execution_count": 44,
      "outputs": []
    },
    {
      "cell_type": "code",
      "source": [
        "\n",
        "print(\"[INFO] training network...\")\n",
        "opt = SGD(lr=INIT_LR)\n",
        "model.compile(loss=\"categorical_crossentropy\", optimizer=opt,\n",
        "\tmetrics=[\"accuracy\"])"
      ],
      "metadata": {
        "id": "_YwlutjiQXMv",
        "colab": {
          "base_uri": "https://localhost:8080/"
        },
        "outputId": "3d3200e8-6a38-448d-eab5-d51440cac7ed"
      },
      "execution_count": null,
      "outputs": [
        {
          "output_type": "stream",
          "name": "stdout",
          "text": [
            "[INFO] training network...\n"
          ]
        }
      ]
    },
    {
      "cell_type": "code",
      "source": [
        "H = model.fit(trainX, trainY, validation_data=(testX, testY),\n",
        "\tepochs=EPOCHS, batch_size=1000)"
      ],
      "metadata": {
        "id": "soa-Mzd0QXbm",
        "colab": {
          "base_uri": "https://localhost:8080/"
        },
        "outputId": "2eedec48-fa96-416c-cf8c-c6f38b23cc36"
      },
      "execution_count": null,
      "outputs": [
        {
          "output_type": "stream",
          "name": "stdout",
          "text": [
            "Epoch 1/80\n",
            "3/3 [==============================] - 1s 108ms/step - loss: 0.7098 - accuracy: 0.6440 - val_loss: 0.7699 - val_accuracy: 0.6200\n",
            "Epoch 2/80\n",
            "3/3 [==============================] - 0s 27ms/step - loss: 0.6101 - accuracy: 0.7449 - val_loss: 0.8406 - val_accuracy: 0.6027\n",
            "Epoch 3/80\n",
            "3/3 [==============================] - 0s 34ms/step - loss: 0.5993 - accuracy: 0.7649 - val_loss: 0.7482 - val_accuracy: 0.6307\n",
            "Epoch 4/80\n",
            "3/3 [==============================] - 0s 27ms/step - loss: 0.5747 - accuracy: 0.7813 - val_loss: 0.7584 - val_accuracy: 0.6227\n",
            "Epoch 5/80\n",
            "3/3 [==============================] - 0s 29ms/step - loss: 0.5756 - accuracy: 0.7684 - val_loss: 0.7519 - val_accuracy: 0.6293\n",
            "Epoch 6/80\n",
            "3/3 [==============================] - 0s 28ms/step - loss: 0.5793 - accuracy: 0.7822 - val_loss: 0.7504 - val_accuracy: 0.6320\n",
            "Epoch 7/80\n",
            "3/3 [==============================] - 0s 28ms/step - loss: 0.5736 - accuracy: 0.7769 - val_loss: 0.7581 - val_accuracy: 0.6200\n",
            "Epoch 8/80\n",
            "3/3 [==============================] - 0s 27ms/step - loss: 0.6077 - accuracy: 0.7236 - val_loss: 0.8183 - val_accuracy: 0.5867\n",
            "Epoch 9/80\n",
            "3/3 [==============================] - 0s 28ms/step - loss: 0.6079 - accuracy: 0.7031 - val_loss: 0.7589 - val_accuracy: 0.6227\n",
            "Epoch 10/80\n",
            "3/3 [==============================] - 0s 33ms/step - loss: 0.5671 - accuracy: 0.7782 - val_loss: 0.7459 - val_accuracy: 0.6307\n",
            "Epoch 11/80\n",
            "3/3 [==============================] - 0s 31ms/step - loss: 0.5630 - accuracy: 0.7978 - val_loss: 0.7818 - val_accuracy: 0.6053\n",
            "Epoch 12/80\n",
            "3/3 [==============================] - 0s 27ms/step - loss: 0.6159 - accuracy: 0.6920 - val_loss: 0.8801 - val_accuracy: 0.5707\n",
            "Epoch 13/80\n",
            "3/3 [==============================] - 0s 28ms/step - loss: 0.6435 - accuracy: 0.6836 - val_loss: 0.8735 - val_accuracy: 0.5800\n",
            "Epoch 14/80\n",
            "3/3 [==============================] - 0s 30ms/step - loss: 0.6971 - accuracy: 0.6524 - val_loss: 0.8052 - val_accuracy: 0.6027\n",
            "Epoch 15/80\n",
            "3/3 [==============================] - 0s 31ms/step - loss: 0.5878 - accuracy: 0.7547 - val_loss: 0.7897 - val_accuracy: 0.6093\n",
            "Epoch 16/80\n",
            "3/3 [==============================] - 0s 27ms/step - loss: 0.6272 - accuracy: 0.6853 - val_loss: 0.7959 - val_accuracy: 0.6107\n",
            "Epoch 17/80\n",
            "3/3 [==============================] - 0s 28ms/step - loss: 0.5771 - accuracy: 0.7493 - val_loss: 0.7706 - val_accuracy: 0.6240\n",
            "Epoch 18/80\n",
            "3/3 [==============================] - 0s 30ms/step - loss: 0.5717 - accuracy: 0.7671 - val_loss: 0.7557 - val_accuracy: 0.6187\n",
            "Epoch 19/80\n",
            "3/3 [==============================] - 0s 28ms/step - loss: 0.5573 - accuracy: 0.8009 - val_loss: 0.7558 - val_accuracy: 0.6373\n",
            "Epoch 20/80\n",
            "3/3 [==============================] - 0s 28ms/step - loss: 0.5582 - accuracy: 0.7982 - val_loss: 0.7502 - val_accuracy: 0.6227\n",
            "Epoch 21/80\n",
            "3/3 [==============================] - 0s 27ms/step - loss: 0.5894 - accuracy: 0.7596 - val_loss: 0.8748 - val_accuracy: 0.5787\n",
            "Epoch 22/80\n",
            "3/3 [==============================] - 0s 33ms/step - loss: 0.6210 - accuracy: 0.6876 - val_loss: 0.7565 - val_accuracy: 0.6200\n",
            "Epoch 23/80\n",
            "3/3 [==============================] - 0s 34ms/step - loss: 0.5792 - accuracy: 0.7458 - val_loss: 0.7718 - val_accuracy: 0.6160\n",
            "Epoch 24/80\n",
            "3/3 [==============================] - 0s 27ms/step - loss: 0.5661 - accuracy: 0.7604 - val_loss: 0.7871 - val_accuracy: 0.6040\n",
            "Epoch 25/80\n",
            "3/3 [==============================] - 0s 30ms/step - loss: 0.6259 - accuracy: 0.6742 - val_loss: 0.7974 - val_accuracy: 0.5947\n",
            "Epoch 26/80\n",
            "3/3 [==============================] - 0s 27ms/step - loss: 0.5881 - accuracy: 0.7147 - val_loss: 0.7563 - val_accuracy: 0.6240\n",
            "Epoch 27/80\n",
            "3/3 [==============================] - 0s 28ms/step - loss: 0.5616 - accuracy: 0.7689 - val_loss: 0.7581 - val_accuracy: 0.6213\n",
            "Epoch 28/80\n",
            "3/3 [==============================] - 0s 27ms/step - loss: 0.5521 - accuracy: 0.7929 - val_loss: 0.7540 - val_accuracy: 0.6320\n",
            "Epoch 29/80\n",
            "3/3 [==============================] - 0s 29ms/step - loss: 0.5458 - accuracy: 0.8058 - val_loss: 0.7841 - val_accuracy: 0.6107\n",
            "Epoch 30/80\n",
            "3/3 [==============================] - 0s 27ms/step - loss: 0.5518 - accuracy: 0.7844 - val_loss: 0.7821 - val_accuracy: 0.6173\n",
            "Epoch 31/80\n",
            "3/3 [==============================] - 0s 28ms/step - loss: 0.5583 - accuracy: 0.7933 - val_loss: 0.7442 - val_accuracy: 0.6387\n",
            "Epoch 32/80\n",
            "3/3 [==============================] - 0s 27ms/step - loss: 0.5614 - accuracy: 0.7929 - val_loss: 0.8033 - val_accuracy: 0.6040\n",
            "Epoch 33/80\n",
            "3/3 [==============================] - 0s 27ms/step - loss: 0.5654 - accuracy: 0.7862 - val_loss: 0.7600 - val_accuracy: 0.6347\n",
            "Epoch 34/80\n",
            "3/3 [==============================] - 0s 29ms/step - loss: 0.5875 - accuracy: 0.7773 - val_loss: 0.8056 - val_accuracy: 0.6173\n",
            "Epoch 35/80\n",
            "3/3 [==============================] - 0s 31ms/step - loss: 0.5806 - accuracy: 0.7484 - val_loss: 0.7487 - val_accuracy: 0.6227\n",
            "Epoch 36/80\n",
            "3/3 [==============================] - 0s 27ms/step - loss: 0.5556 - accuracy: 0.7782 - val_loss: 0.7818 - val_accuracy: 0.6080\n",
            "Epoch 37/80\n",
            "3/3 [==============================] - 0s 26ms/step - loss: 0.6035 - accuracy: 0.6893 - val_loss: 0.8646 - val_accuracy: 0.5773\n",
            "Epoch 38/80\n",
            "3/3 [==============================] - 0s 27ms/step - loss: 0.6385 - accuracy: 0.6649 - val_loss: 0.8204 - val_accuracy: 0.5973\n",
            "Epoch 39/80\n",
            "3/3 [==============================] - 0s 27ms/step - loss: 0.6657 - accuracy: 0.6498 - val_loss: 0.9118 - val_accuracy: 0.5587\n",
            "Epoch 40/80\n",
            "3/3 [==============================] - 0s 27ms/step - loss: 0.6160 - accuracy: 0.6822 - val_loss: 0.7538 - val_accuracy: 0.6200\n",
            "Epoch 41/80\n",
            "3/3 [==============================] - 0s 30ms/step - loss: 0.5556 - accuracy: 0.7680 - val_loss: 0.7602 - val_accuracy: 0.6253\n",
            "Epoch 42/80\n",
            "3/3 [==============================] - 0s 29ms/step - loss: 0.5442 - accuracy: 0.7880 - val_loss: 0.7957 - val_accuracy: 0.5987\n",
            "Epoch 43/80\n",
            "3/3 [==============================] - 0s 27ms/step - loss: 0.5788 - accuracy: 0.7138 - val_loss: 0.7446 - val_accuracy: 0.6280\n",
            "Epoch 44/80\n",
            "3/3 [==============================] - 0s 30ms/step - loss: 0.5348 - accuracy: 0.8147 - val_loss: 0.7661 - val_accuracy: 0.6293\n",
            "Epoch 45/80\n",
            "3/3 [==============================] - 0s 28ms/step - loss: 0.5392 - accuracy: 0.8142 - val_loss: 0.7407 - val_accuracy: 0.6400\n",
            "Epoch 46/80\n",
            "3/3 [==============================] - 0s 29ms/step - loss: 0.5479 - accuracy: 0.8018 - val_loss: 0.7991 - val_accuracy: 0.6093\n",
            "Epoch 47/80\n",
            "3/3 [==============================] - 0s 28ms/step - loss: 0.5726 - accuracy: 0.7324 - val_loss: 0.8580 - val_accuracy: 0.5827\n",
            "Epoch 48/80\n",
            "3/3 [==============================] - 0s 30ms/step - loss: 0.6184 - accuracy: 0.6684 - val_loss: 0.7813 - val_accuracy: 0.6067\n",
            "Epoch 49/80\n",
            "3/3 [==============================] - 0s 28ms/step - loss: 0.5790 - accuracy: 0.7200 - val_loss: 0.8275 - val_accuracy: 0.5973\n",
            "Epoch 50/80\n",
            "3/3 [==============================] - 0s 28ms/step - loss: 0.5832 - accuracy: 0.7160 - val_loss: 0.7958 - val_accuracy: 0.6213\n",
            "Epoch 51/80\n",
            "3/3 [==============================] - 0s 31ms/step - loss: 0.5812 - accuracy: 0.7516 - val_loss: 0.8821 - val_accuracy: 0.6000\n",
            "Epoch 52/80\n",
            "3/3 [==============================] - 0s 38ms/step - loss: 0.7217 - accuracy: 0.6231 - val_loss: 0.8130 - val_accuracy: 0.5960\n",
            "Epoch 53/80\n",
            "3/3 [==============================] - 0s 45ms/step - loss: 0.5641 - accuracy: 0.7316 - val_loss: 0.7905 - val_accuracy: 0.6120\n",
            "Epoch 54/80\n",
            "3/3 [==============================] - 0s 34ms/step - loss: 0.5591 - accuracy: 0.7622 - val_loss: 0.7934 - val_accuracy: 0.6067\n",
            "Epoch 55/80\n",
            "3/3 [==============================] - 0s 44ms/step - loss: 0.5797 - accuracy: 0.7258 - val_loss: 0.8732 - val_accuracy: 0.5813\n",
            "Epoch 56/80\n",
            "3/3 [==============================] - 0s 34ms/step - loss: 0.6110 - accuracy: 0.6889 - val_loss: 0.8155 - val_accuracy: 0.6040\n",
            "Epoch 57/80\n",
            "3/3 [==============================] - 0s 38ms/step - loss: 0.5700 - accuracy: 0.7391 - val_loss: 0.7986 - val_accuracy: 0.6120\n",
            "Epoch 58/80\n",
            "3/3 [==============================] - 0s 43ms/step - loss: 0.5571 - accuracy: 0.7560 - val_loss: 0.7412 - val_accuracy: 0.6440\n",
            "Epoch 59/80\n",
            "3/3 [==============================] - 0s 38ms/step - loss: 0.5269 - accuracy: 0.8178 - val_loss: 0.7733 - val_accuracy: 0.6240\n",
            "Epoch 60/80\n",
            "3/3 [==============================] - 0s 34ms/step - loss: 0.5436 - accuracy: 0.8044 - val_loss: 0.7865 - val_accuracy: 0.6200\n",
            "Epoch 61/80\n",
            "3/3 [==============================] - 0s 33ms/step - loss: 0.6238 - accuracy: 0.7382 - val_loss: 0.8060 - val_accuracy: 0.6160\n",
            "Epoch 62/80\n",
            "3/3 [==============================] - 0s 34ms/step - loss: 0.5441 - accuracy: 0.7938 - val_loss: 0.7442 - val_accuracy: 0.6413\n",
            "Epoch 63/80\n",
            "3/3 [==============================] - 0s 42ms/step - loss: 0.5307 - accuracy: 0.7960 - val_loss: 0.7884 - val_accuracy: 0.6147\n",
            "Epoch 64/80\n",
            "3/3 [==============================] - 0s 41ms/step - loss: 0.5258 - accuracy: 0.7907 - val_loss: 0.7504 - val_accuracy: 0.6227\n",
            "Epoch 65/80\n",
            "3/3 [==============================] - 0s 34ms/step - loss: 0.5304 - accuracy: 0.7862 - val_loss: 0.7551 - val_accuracy: 0.6253\n",
            "Epoch 66/80\n",
            "3/3 [==============================] - 0s 33ms/step - loss: 0.5368 - accuracy: 0.7680 - val_loss: 0.7955 - val_accuracy: 0.6120\n",
            "Epoch 67/80\n",
            "3/3 [==============================] - 0s 34ms/step - loss: 0.5410 - accuracy: 0.7587 - val_loss: 0.7630 - val_accuracy: 0.6280\n",
            "Epoch 68/80\n",
            "3/3 [==============================] - 0s 37ms/step - loss: 0.5671 - accuracy: 0.7253 - val_loss: 0.8420 - val_accuracy: 0.5867\n",
            "Epoch 69/80\n",
            "3/3 [==============================] - 0s 38ms/step - loss: 0.6086 - accuracy: 0.6809 - val_loss: 0.8063 - val_accuracy: 0.5960\n",
            "Epoch 70/80\n",
            "3/3 [==============================] - 0s 38ms/step - loss: 0.5430 - accuracy: 0.7458 - val_loss: 0.7549 - val_accuracy: 0.6360\n",
            "Epoch 71/80\n",
            "3/3 [==============================] - 0s 39ms/step - loss: 0.5111 - accuracy: 0.8236 - val_loss: 0.7532 - val_accuracy: 0.6253\n",
            "Epoch 72/80\n",
            "3/3 [==============================] - 0s 39ms/step - loss: 0.5536 - accuracy: 0.7636 - val_loss: 0.7962 - val_accuracy: 0.6133\n",
            "Epoch 73/80\n",
            "3/3 [==============================] - 0s 36ms/step - loss: 0.5228 - accuracy: 0.8116 - val_loss: 0.7421 - val_accuracy: 0.6360\n",
            "Epoch 74/80\n",
            "3/3 [==============================] - 0s 40ms/step - loss: 0.5049 - accuracy: 0.8218 - val_loss: 0.7613 - val_accuracy: 0.6333\n",
            "Epoch 75/80\n",
            "3/3 [==============================] - 0s 35ms/step - loss: 0.5123 - accuracy: 0.8191 - val_loss: 0.7821 - val_accuracy: 0.6107\n",
            "Epoch 76/80\n",
            "3/3 [==============================] - 0s 27ms/step - loss: 0.5627 - accuracy: 0.7391 - val_loss: 0.7749 - val_accuracy: 0.6240\n",
            "Epoch 77/80\n",
            "3/3 [==============================] - 0s 31ms/step - loss: 0.5226 - accuracy: 0.7800 - val_loss: 0.7603 - val_accuracy: 0.6240\n",
            "Epoch 78/80\n",
            "3/3 [==============================] - 0s 30ms/step - loss: 0.5437 - accuracy: 0.7476 - val_loss: 0.8520 - val_accuracy: 0.5893\n",
            "Epoch 79/80\n",
            "3/3 [==============================] - 0s 26ms/step - loss: 0.5700 - accuracy: 0.7209 - val_loss: 0.7444 - val_accuracy: 0.6387\n",
            "Epoch 80/80\n",
            "3/3 [==============================] - 0s 25ms/step - loss: 0.5061 - accuracy: 0.8129 - val_loss: 0.7505 - val_accuracy: 0.6373\n"
          ]
        }
      ]
    },
    {
      "cell_type": "code",
      "source": [
        "N = np.arange(0, EPOCHS)\n",
        "plt.style.use(\"ggplot\")\n",
        "plt.figure()\n",
        "plt.plot(N, H.history[\"loss\"], label=\"train_loss\")\n",
        "plt.plot(N, H.history[\"val_loss\"], label=\"val_loss\")\n",
        "plt.plot(N, H.history[\"accuracy\"], label=\"train_acc\")\n",
        "plt.plot(N, H.history[\"val_accuracy\"], label=\"val_acc\")\n",
        "plt.title(\"Training Loss and Accuracy (Simple NN)\")\n",
        "plt.xlabel(\"Epoch #\")\n",
        "plt.ylabel(\"Loss/Accuracy\")\n",
        "plt.legend()\n",
        "plt.savefig('plot.png')\n",
        "cv2_imshow(cv2.imread(\"plot.png\"))"
      ],
      "metadata": {
        "colab": {
          "base_uri": "https://localhost:8080/",
          "height": 305
        },
        "id": "EAk89ayw8lPw",
        "outputId": "22615682-ce4a-422c-c7e4-83f3cd70e604"
      },
      "execution_count": 69,
      "outputs": [
        {
          "output_type": "display_data",
          "data": {
            "text/plain": [
              "<PIL.Image.Image image mode=RGB size=432x288 at 0x7F1A7A8ADB20>"
            ],
            "image/png": "[encoded data removed]"
          },
          "metadata": {}
        }
      ]
    },
    {
      "cell_type": "code",
      "source": [
        "print(\"[INFO] serializing network and label binarizer...\")\n",
        "model.save(\"model.h5\", save_format=\"h5\")\n",
        "f = open(\"label_bin\", \"wb\")\n",
        "f.write(pickle.dumps(lb))\n",
        "f.close()"
      ],
      "metadata": {
        "colab": {
          "base_uri": "https://localhost:8080/"
        },
        "id": "Dzu1jExLuwr3",
        "outputId": "918ffb86-f616-428b-82d4-dba86f674820"
      },
      "execution_count": null,
      "outputs": [
        {
          "output_type": "stream",
          "name": "stdout",
          "text": [
            "[INFO] serializing network and label binarizer...\n"
          ]
        }
      ]
    },
    {
      "cell_type": "code",
      "source": [
        "from keras.models import load_model\n",
        "import argparse\n",
        "import pickle\n",
        "import cv2"
      ],
      "metadata": {
        "id": "8ILi2bTo5PYE"
      },
      "execution_count": 55,
      "outputs": []
    },
    {
      "cell_type": "code",
      "source": [
        "from google.colab import files\n",
        "uploaded = files.upload() \n",
        "\n",
        "\n",
        "image = cv2.imread(list(uploaded.keys())[0])\n",
        "output = image.copy()\n",
        "image = cv2.resize(image, (32, 32))\n",
        "cv2_imshow(image)"
      ],
      "metadata": {
        "colab": {
          "base_uri": "https://localhost:8080/",
          "height": 105
        },
        "id": "Ko4Jjq4g5eq7",
        "outputId": "7f974ff4-7c36-4408-d219-9c3920ef444d"
      },
      "execution_count": 62,
      "outputs": [
        {
          "output_type": "display_data",
          "data": {
            "text/plain": [
              "<IPython.core.display.HTML object>"
            ],
            "text/html": [
              "\n",
              "     <input type=\"file\" id=\"files-bb50da4e-2044-4105-a65d-1bdc4e069e07\" name=\"files[]\" multiple disabled\n",
              "        style=\"border:none\" />\n",
              "     <output id=\"result-bb50da4e-2044-4105-a65d-1bdc4e069e07\">\n",
              "      Upload widget is only available when the cell has been executed in the\n",
              "      current browser session. Please rerun this cell to enable.\n",
              "      </output>\n",
              "      <script>// Copyright 2017 Google LLC\n",
              "//\n",
              "// Licensed under the Apache License, Version 2.0 (the \"License\");\n",
              "// you may not use this file except in compliance with the License.\n",
              "// You may obtain a copy of the License at\n",
              "//\n",
              "//      http://www.apache.org/licenses/LICENSE-2.0\n",
              "//\n",
              "// Unless required by applicable law or agreed to in writing, software\n",
              "// distributed under the License is distributed on an \"AS IS\" BASIS,\n",
              "// WITHOUT WARRANTIES OR CONDITIONS OF ANY KIND, either express or implied.\n",
              "// See the License for the specific language governing permissions and\n",
              "// limitations under the License.\n",
              "\n",
              "/**\n",
              " * @fileoverview Helpers for google.colab Python module.\n",
              " */\n",
              "(function(scope) {\n",
              "function span(text, styleAttributes = {}) {\n",
              "  const element = document.createElement('span');\n",
              "  element.textContent = text;\n",
              "  for (const key of Object.keys(styleAttributes)) {\n",
              "    element.style[key] = styleAttributes[key];\n",
              "  }\n",
              "  return element;\n",
              "}\n",
              "\n",
              "// Max number of bytes which will be uploaded at a time.\n",
              "const MAX_PAYLOAD_SIZE = 100 * 1024;\n",
              "\n",
              "function _uploadFiles(inputId, outputId) {\n",
              "  const steps = uploadFilesStep(inputId, outputId);\n",
              "  const outputElement = document.getElementById(outputId);\n",
              "  // Cache steps on the outputElement to make it available for the next call\n",
              "  // to uploadFilesContinue from Python.\n",
              "  outputElement.steps = steps;\n",
              "\n",
              "  return _uploadFilesContinue(outputId);\n",
              "}\n",
              "\n",
              "// This is roughly an async generator (not supported in the browser yet),\n",
              "// where there are multiple asynchronous steps and the Python side is going\n",
              "// to poll for completion of each step.\n",
              "// This uses a Promise to block the python side on completion of each step,\n",
              "// then passes the result of the previous step as the input to the next step.\n",
              "function _uploadFilesContinue(outputId) {\n",
              "  const outputElement = document.getElementById(outputId);\n",
              "  const steps = outputElement.steps;\n",
              "\n",
              "  const next = steps.next(outputElement.lastPromiseValue);\n",
              "  return Promise.resolve(next.value.promise).then((value) => {\n",
              "    // Cache the last promise value to make it available to the next\n",
              "    // step of the generator.\n",
              "    outputElement.lastPromiseValue = value;\n",
              "    return next.value.response;\n",
              "  });\n",
              "}\n",
              "\n",
              "/**\n",
              " * Generator function which is called between each async step of the upload\n",
              " * process.\n",
              " * @param {string} inputId Element ID of the input file picker element.\n",
              " * @param {string} outputId Element ID of the output display.\n",
              " * @return {!Iterable<!Object>} Iterable of next steps.\n",
              " */\n",
              "function* uploadFilesStep(inputId, outputId) {\n",
              "  const inputElement = document.getElementById(inputId);\n",
              "  inputElement.disabled = false;\n",
              "\n",
              "  const outputElement = document.getElementById(outputId);\n",
              "  outputElement.innerHTML = '';\n",
              "\n",
              "  const pickedPromise = new Promise((resolve) => {\n",
              "    inputElement.addEventListener('change', (e) => {\n",
              "      resolve(e.target.files);\n",
              "    });\n",
              "  });\n",
              "\n",
              "  const cancel = document.createElement('button');\n",
              "  inputElement.parentElement.appendChild(cancel);\n",
              "  cancel.textContent = 'Cancel upload';\n",
              "  const cancelPromise = new Promise((resolve) => {\n",
              "    cancel.onclick = () => {\n",
              "      resolve(null);\n",
              "    };\n",
              "  });\n",
              "\n",
              "  // Wait for the user to pick the files.\n",
              "  const files = yield {\n",
              "    promise: Promise.race([pickedPromise, cancelPromise]),\n",
              "    response: {\n",
              "      action: 'starting',\n",
              "    }\n",
              "  };\n",
              "\n",
              "  cancel.remove();\n",
              "\n",
              "  // Disable the input element since further picks are not allowed.\n",
              "  inputElement.disabled = true;\n",
              "\n",
              "  if (!files) {\n",
              "    return {\n",
              "      response: {\n",
              "        action: 'complete',\n",
              "      }\n",
              "    };\n",
              "  }\n",
              "\n",
              "  for (const file of files) {\n",
              "    const li = document.createElement('li');\n",
              "    li.append(span(file.name, {fontWeight: 'bold'}));\n",
              "    li.append(span(\n",
              "        `(${file.type || 'n/a'}) - ${file.size} bytes, ` +\n",
              "        `last modified: ${\n",
              "            file.lastModifiedDate ? file.lastModifiedDate.toLocaleDateString() :\n",
              "                                    'n/a'} - `));\n",
              "    const percent = span('0% done');\n",
              "    li.appendChild(percent);\n",
              "\n",
              "    outputElement.appendChild(li);\n",
              "\n",
              "    const fileDataPromise = new Promise((resolve) => {\n",
              "      const reader = new FileReader();\n",
              "      reader.onload = (e) => {\n",
              "        resolve(e.target.result);\n",
              "      };\n",
              "      reader.readAsArrayBuffer(file);\n",
              "    });\n",
              "    // Wait for the data to be ready.\n",
              "    let fileData = yield {\n",
              "      promise: fileDataPromise,\n",
              "      response: {\n",
              "        action: 'continue',\n",
              "      }\n",
              "    };\n",
              "\n",
              "    // Use a chunked sending to avoid message size limits. See b/62115660.\n",
              "    let position = 0;\n",
              "    do {\n",
              "      const length = Math.min(fileData.byteLength - position, MAX_PAYLOAD_SIZE);\n",
              "      const chunk = new Uint8Array(fileData, position, length);\n",
              "      position += length;\n",
              "\n",
              "      const base64 = btoa(String.fromCharCode.apply(null, chunk));\n",
              "      yield {\n",
              "        response: {\n",
              "          action: 'append',\n",
              "          file: file.name,\n",
              "          data: base64,\n",
              "        },\n",
              "      };\n",
              "\n",
              "      let percentDone = fileData.byteLength === 0 ?\n",
              "          100 :\n",
              "          Math.round((position / fileData.byteLength) * 100);\n",
              "      percent.textContent = `${percentDone}% done`;\n",
              "\n",
              "    } while (position < fileData.byteLength);\n",
              "  }\n",
              "\n",
              "  // All done.\n",
              "  yield {\n",
              "    response: {\n",
              "      action: 'complete',\n",
              "    }\n",
              "  };\n",
              "}\n",
              "\n",
              "scope.google = scope.google || {};\n",
              "scope.google.colab = scope.google.colab || {};\n",
              "scope.google.colab._files = {\n",
              "  _uploadFiles,\n",
              "  _uploadFilesContinue,\n",
              "};\n",
              "})(self);\n",
              "</script> "
            ]
          },
          "metadata": {}
        },
        {
          "output_type": "stream",
          "name": "stdout",
          "text": [
            "Saving vodopad.jpg to vodopad.jpg\n"
          ]
        },
        {
          "output_type": "display_data",
          "data": {
            "text/plain": [
              "<PIL.Image.Image image mode=RGB size=32x32 at 0x7F1A7A10FAC0>"
            ],
            "image/png": "[encoded data removed]"
          },
          "metadata": {}
        }
      ]
    },
    {
      "cell_type": "code",
      "source": [
        "image = image.flatten()\n",
        "\n",
        "image = image.astype(\"float\") / 255.0\n",
        "image = image.reshape((1, image.shape[0]))"
      ],
      "metadata": {
        "id": "28Ea8XdB5ldT"
      },
      "execution_count": 59,
      "outputs": []
    },
    {
      "cell_type": "code",
      "source": [
        "from keras import models    \n",
        "print(\"[INFO] loading network and label binarizer...\")\n",
        "model = models.load_model(\"model.h5\")\n",
        "lb = pickle.loads(open(\"label_bin\", \"rb\").read())"
      ],
      "metadata": {
        "colab": {
          "base_uri": "https://localhost:8080/"
        },
        "id": "QQTsNN7ZcJcT",
        "outputId": "4fabdc85-2207-4ce4-9d8c-56db80abee8a"
      },
      "execution_count": null,
      "outputs": [
        {
          "output_type": "stream",
          "name": "stdout",
          "text": [
            "[INFO] loading network and label binarizer...\n"
          ]
        }
      ]
    },
    {
      "cell_type": "code",
      "source": [
        "preds = model.predict(image)\n",
        "print(preds)"
      ],
      "metadata": {
        "colab": {
          "base_uri": "https://localhost:8080/"
        },
        "id": "XhpQmVI8cJiG",
        "outputId": "5e61cb93-92c2-473e-c51b-62de034bc1db"
      },
      "execution_count": null,
      "outputs": [
        {
          "output_type": "stream",
          "name": "stdout",
          "text": [
            "1/1 [==============================] - 0s 51ms/step\n",
            "[[5.1735118e-02 9.4788224e-01 3.8256342e-04]]\n"
          ]
        }
      ]
    },
    {
      "cell_type": "code",
      "source": [
        "i = preds.argmax(axis=1)[0]\n",
        "label = lb.classes_[i]"
      ],
      "metadata": {
        "id": "qcpEtlLMirga"
      },
      "execution_count": null,
      "outputs": []
    },
    {
      "cell_type": "code",
      "source": [
        "text = \"{}: {:.2f}%\".format(label, preds[0][i] * 100)\n",
        "cv2.putText(output, text, (10, 30), cv2.FONT_HERSHEY_SIMPLEX, 0.7,\n",
        "\t(0, 0, 255), 2)"
      ],
      "metadata": {
        "colab": {
          "base_uri": "https://localhost:8080/"
        },
        "id": "fqA8fzmYhHXY",
        "outputId": "b13b53c1-1c42-40dd-94a7-833036f5cb6d"
      },
      "execution_count": null,
      "outputs": [
        {
          "output_type": "execute_result",
          "data": {
            "text/plain": [
              "array([[[ 83, 108, 112],\n",
              "        [ 81, 106, 110],\n",
              "        [ 81, 107, 107],\n",
              "        ...,\n",
              "        [172, 217, 228],\n",
              "        [173, 214, 223],\n",
              "        [172, 211, 220]],\n",
              "\n",
              "       [[ 84, 105, 106],\n",
              "        [ 77,  98,  99],\n",
              "        [ 73,  95,  93],\n",
              "        ...,\n",
              "        [172, 214, 226],\n",
              "        [171, 213, 220],\n",
              "        [170, 209, 217]],\n",
              "\n",
              "       [[ 82,  99,  96],\n",
              "        [ 73,  90,  87],\n",
              "        [ 66,  86,  81],\n",
              "        ...,\n",
              "        [170, 213, 222],\n",
              "        [169, 213, 220],\n",
              "        [168, 210, 217]],\n",
              "\n",
              "       ...,\n",
              "\n",
              "       [[ 54,  62,  61],\n",
              "        [ 51,  59,  58],\n",
              "        [ 46,  54,  54],\n",
              "        ...,\n",
              "        [ 92, 113, 140],\n",
              "        [ 86, 108, 133],\n",
              "        [ 85, 105, 130]],\n",
              "\n",
              "       [[ 56,  64,  63],\n",
              "        [ 52,  60,  59],\n",
              "        [ 47,  55,  55],\n",
              "        ...,\n",
              "        [143, 162, 177],\n",
              "        [144, 164, 175],\n",
              "        [145, 163, 174]],\n",
              "\n",
              "       [[ 57,  65,  64],\n",
              "        [ 53,  61,  60],\n",
              "        [ 48,  56,  56],\n",
              "        ...,\n",
              "        [133, 141, 158],\n",
              "        [131, 138, 155],\n",
              "        [128, 132, 150]]], dtype=uint8)"
            ]
          },
          "metadata": {},
          "execution_count": 265
        }
      ]
    },
    {
      "cell_type": "code",
      "source": [
        "cv2_imshow(output)"
      ],
      "metadata": {
        "colab": {
          "base_uri": "https://localhost:8080/",
          "height": 125
        },
        "id": "2iHPyOK26FSE",
        "outputId": "9f88a5a7-b3a2-444a-aff6-478b1e447d94"
      },
      "execution_count": 79,
      "outputs": [
        {
          "output_type": "display_data",
          "data": {
            "text/plain": [
              "<PIL.Image.Image image mode=RGB size=208x108 at 0x7F1A7A8AB580>"
            ],
            "image/png": "[encoded data removed]"
          },
          "metadata": {}
        }
      ]
    }
  ]
}